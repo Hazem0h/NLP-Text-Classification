{
 "cells": [
  {
   "cell_type": "markdown",
   "metadata": {},
   "source": [
    "## Importing the libraries and reading the data"
   ]
  },
  {
   "cell_type": "code",
   "execution_count": 1,
   "metadata": {},
   "outputs": [],
   "source": [
    "import numpy as np\n",
    "import pandas as pd\n",
    "import matplotlib.pyplot as plt\n",
    "import seaborn as sb"
   ]
  },
  {
   "cell_type": "code",
   "execution_count": 2,
   "metadata": {},
   "outputs": [
    {
     "data": {
      "text/html": [
       "<div>\n",
       "<style scoped>\n",
       "    .dataframe tbody tr th:only-of-type {\n",
       "        vertical-align: middle;\n",
       "    }\n",
       "\n",
       "    .dataframe tbody tr th {\n",
       "        vertical-align: top;\n",
       "    }\n",
       "\n",
       "    .dataframe thead th {\n",
       "        text-align: right;\n",
       "    }\n",
       "</style>\n",
       "<table border=\"1\" class=\"dataframe\">\n",
       "  <thead>\n",
       "    <tr style=\"text-align: right;\">\n",
       "      <th></th>\n",
       "      <th>reviews.rating</th>\n",
       "      <th>reviews.text</th>\n",
       "    </tr>\n",
       "  </thead>\n",
       "  <tbody>\n",
       "    <tr>\n",
       "      <th>0</th>\n",
       "      <td>1</td>\n",
       "      <td>This product so far has not disappointed. My c...</td>\n",
       "    </tr>\n",
       "    <tr>\n",
       "      <th>1</th>\n",
       "      <td>1</td>\n",
       "      <td>great for beginner or experienced person. Boug...</td>\n",
       "    </tr>\n",
       "    <tr>\n",
       "      <th>2</th>\n",
       "      <td>1</td>\n",
       "      <td>Inexpensive tablet for him to use and learn on...</td>\n",
       "    </tr>\n",
       "    <tr>\n",
       "      <th>3</th>\n",
       "      <td>1</td>\n",
       "      <td>I've had my Fire HD 8 two weeks now and I love...</td>\n",
       "    </tr>\n",
       "    <tr>\n",
       "      <th>4</th>\n",
       "      <td>1</td>\n",
       "      <td>I bought this for my grand daughter when she c...</td>\n",
       "    </tr>\n",
       "  </tbody>\n",
       "</table>\n",
       "</div>"
      ],
      "text/plain": [
       "   reviews.rating                                       reviews.text\n",
       "0               1  This product so far has not disappointed. My c...\n",
       "1               1  great for beginner or experienced person. Boug...\n",
       "2               1  Inexpensive tablet for him to use and learn on...\n",
       "3               1  I've had my Fire HD 8 two weeks now and I love...\n",
       "4               1  I bought this for my grand daughter when she c..."
      ]
     },
     "execution_count": 2,
     "metadata": {},
     "output_type": "execute_result"
    }
   ],
   "source": [
    "df = pd.read_csv(\"reviews.csv\")\n",
    "df.head()"
   ]
  },
  {
   "cell_type": "markdown",
   "metadata": {},
   "source": [
    "So, we have 2 columns \n",
    "* Rating column\n",
    "* Text column\n",
    "\n",
    "We are required to build a Naive Bayes Classifier to predict the rating (\"polarity detection\")"
   ]
  },
  {
   "cell_type": "markdown",
   "metadata": {},
   "source": [
    "Before getting into building the model, let's explore the data, and clean it"
   ]
  },
  {
   "cell_type": "markdown",
   "metadata": {},
   "source": [
    "## Data Cleaning"
   ]
  },
  {
   "cell_type": "markdown",
   "metadata": {},
   "source": [
    "#### Let's rename the columns to be prettier"
   ]
  },
  {
   "cell_type": "code",
   "execution_count": 3,
   "metadata": {},
   "outputs": [
    {
     "data": {
      "text/html": [
       "<div>\n",
       "<style scoped>\n",
       "    .dataframe tbody tr th:only-of-type {\n",
       "        vertical-align: middle;\n",
       "    }\n",
       "\n",
       "    .dataframe tbody tr th {\n",
       "        vertical-align: top;\n",
       "    }\n",
       "\n",
       "    .dataframe thead th {\n",
       "        text-align: right;\n",
       "    }\n",
       "</style>\n",
       "<table border=\"1\" class=\"dataframe\">\n",
       "  <thead>\n",
       "    <tr style=\"text-align: right;\">\n",
       "      <th></th>\n",
       "      <th>rating</th>\n",
       "      <th>text</th>\n",
       "    </tr>\n",
       "  </thead>\n",
       "  <tbody>\n",
       "    <tr>\n",
       "      <th>0</th>\n",
       "      <td>1</td>\n",
       "      <td>This product so far has not disappointed. My c...</td>\n",
       "    </tr>\n",
       "    <tr>\n",
       "      <th>1</th>\n",
       "      <td>1</td>\n",
       "      <td>great for beginner or experienced person. Boug...</td>\n",
       "    </tr>\n",
       "    <tr>\n",
       "      <th>2</th>\n",
       "      <td>1</td>\n",
       "      <td>Inexpensive tablet for him to use and learn on...</td>\n",
       "    </tr>\n",
       "    <tr>\n",
       "      <th>3</th>\n",
       "      <td>1</td>\n",
       "      <td>I've had my Fire HD 8 two weeks now and I love...</td>\n",
       "    </tr>\n",
       "    <tr>\n",
       "      <th>4</th>\n",
       "      <td>1</td>\n",
       "      <td>I bought this for my grand daughter when she c...</td>\n",
       "    </tr>\n",
       "  </tbody>\n",
       "</table>\n",
       "</div>"
      ],
      "text/plain": [
       "   rating                                               text\n",
       "0       1  This product so far has not disappointed. My c...\n",
       "1       1  great for beginner or experienced person. Boug...\n",
       "2       1  Inexpensive tablet for him to use and learn on...\n",
       "3       1  I've had my Fire HD 8 two weeks now and I love...\n",
       "4       1  I bought this for my grand daughter when she c..."
      ]
     },
     "execution_count": 3,
     "metadata": {},
     "output_type": "execute_result"
    }
   ],
   "source": [
    "df.rename(columns={\"reviews.rating\":\"rating\", \"reviews.text\":\"text\"}, inplace = True)\n",
    "df.head()"
   ]
  },
  {
   "cell_type": "markdown",
   "metadata": {},
   "source": [
    "#### Check for nulls or duplicates"
   ]
  },
  {
   "cell_type": "code",
   "execution_count": 4,
   "metadata": {},
   "outputs": [
    {
     "name": "stdout",
     "output_type": "stream",
     "text": [
      "<class 'pandas.core.frame.DataFrame'>\n",
      "RangeIndex: 34659 entries, 0 to 34658\n",
      "Data columns (total 2 columns):\n",
      " #   Column  Non-Null Count  Dtype \n",
      "---  ------  --------------  ----- \n",
      " 0   rating  34659 non-null  int64 \n",
      " 1   text    34659 non-null  object\n",
      "dtypes: int64(1), object(1)\n",
      "memory usage: 541.7+ KB\n"
     ]
    }
   ],
   "source": [
    "df.info()"
   ]
  },
  {
   "cell_type": "markdown",
   "metadata": {},
   "source": [
    "So, the rating is read as int correctly, and there are no null values"
   ]
  },
  {
   "cell_type": "code",
   "execution_count": 5,
   "metadata": {},
   "outputs": [
    {
     "data": {
      "text/plain": [
       "False"
      ]
     },
     "execution_count": 5,
     "metadata": {},
     "output_type": "execute_result"
    }
   ],
   "source": [
    "df.duplicated().any()"
   ]
  },
  {
   "cell_type": "markdown",
   "metadata": {},
   "source": [
    "#### Check the values in the rating column"
   ]
  },
  {
   "cell_type": "code",
   "execution_count": 6,
   "metadata": {},
   "outputs": [
    {
     "data": {
      "image/png": "[encoded data removed]",
      "text/plain": [
       "<Figure size 432x288 with 1 Axes>"
      ]
     },
     "metadata": {
      "needs_background": "light"
     },
     "output_type": "display_data"
    }
   ],
   "source": [
    "sb.countplot(data = df, x = \"rating\", color = sb.color_palette()[0]);"
   ]
  },
  {
   "cell_type": "code",
   "execution_count": 7,
   "metadata": {},
   "outputs": [
    {
     "data": {
      "text/plain": [
       "1    33847\n",
       "0      812\n",
       "Name: rating, dtype: int64"
      ]
     },
     "execution_count": 7,
     "metadata": {},
     "output_type": "execute_result"
    }
   ],
   "source": [
    "df.rating.value_counts()"
   ]
  },
  {
   "cell_type": "markdown",
   "metadata": {},
   "source": [
    "So, the data is **very unbalanced**. For that, the accuracy score is not enough."
   ]
  },
  {
   "cell_type": "markdown",
   "metadata": {},
   "source": [
    "## Model building and Training"
   ]
  },
  {
   "cell_type": "markdown",
   "metadata": {},
   "source": [
    "## Iteration 1"
   ]
  },
  {
   "cell_type": "markdown",
   "metadata": {},
   "source": [
    "### Train Test Split"
   ]
  },
  {
   "cell_type": "code",
   "execution_count": 8,
   "metadata": {},
   "outputs": [],
   "source": [
    "from sklearn.model_selection import train_test_split"
   ]
  },
  {
   "cell_type": "code",
   "execution_count": 9,
   "metadata": {},
   "outputs": [],
   "source": [
    "Y = df.rating\n",
    "X = df.text"
   ]
  },
  {
   "cell_type": "code",
   "execution_count": 10,
   "metadata": {},
   "outputs": [],
   "source": [
    "X_train, X_test, Y_train, Y_test = train_test_split(X, Y, test_size = 0.2, random_state = 0)"
   ]
  },
  {
   "cell_type": "markdown",
   "metadata": {},
   "source": [
    "### Bag of words and vectorization"
   ]
  },
  {
   "cell_type": "code",
   "execution_count": 11,
   "metadata": {},
   "outputs": [],
   "source": [
    "from sklearn.feature_extraction.text import CountVectorizer"
   ]
  },
  {
   "cell_type": "code",
   "execution_count": 12,
   "metadata": {},
   "outputs": [
    {
     "data": {
      "text/plain": [
       "['00', '000', '000s', '01', '04', '05', '06', '10', '100', '1000']"
      ]
     },
     "execution_count": 12,
     "metadata": {},
     "output_type": "execute_result"
    }
   ],
   "source": [
    "vectorizer = CountVectorizer()\n",
    "X_train_mat = vectorizer.fit_transform(X_train)\n",
    "vectorizer.get_feature_names()[:10]"
   ]
  },
  {
   "cell_type": "markdown",
   "metadata": {},
   "source": [
    "So, it looks there are lots of numeric things, which are not important. I will feed the vectorizer with a regex expression for the token to **discard any that contains numbers, and keeps only words that are at least 3 characters long**"
   ]
  },
  {
   "cell_type": "code",
   "execution_count": 13,
   "metadata": {},
   "outputs": [
    {
     "data": {
      "text/plain": [
       "['_____',\n",
       " '_without_',\n",
       " 'aaa',\n",
       " 'aamazon',\n",
       " 'aand',\n",
       " 'abandon',\n",
       " 'abandoning',\n",
       " 'abc',\n",
       " 'abcmouse',\n",
       " 'abcs']"
      ]
     },
     "execution_count": 13,
     "metadata": {},
     "output_type": "execute_result"
    }
   ],
   "source": [
    "vectorizer = CountVectorizer(token_pattern=r\"\\b[^\\d\\W]{3,}\\b\") \n",
    "X_train_mat = vectorizer.fit_transform(X_train)\n",
    "vectorizer.get_feature_names()[:10]"
   ]
  },
  {
   "cell_type": "markdown",
   "metadata": {},
   "source": [
    "### Building Naive Bayes model"
   ]
  },
  {
   "cell_type": "code",
   "execution_count": 14,
   "metadata": {},
   "outputs": [],
   "source": [
    "from sklearn.naive_bayes import MultinomialNB"
   ]
  },
  {
   "cell_type": "code",
   "execution_count": 15,
   "metadata": {},
   "outputs": [
    {
     "data": {
      "text/plain": [
       "MultinomialNB()"
      ]
     },
     "execution_count": 15,
     "metadata": {},
     "output_type": "execute_result"
    }
   ],
   "source": [
    "naive_model = MultinomialNB()\n",
    "naive_model.fit(X_train_mat, Y_train)"
   ]
  },
  {
   "cell_type": "markdown",
   "metadata": {},
   "source": [
    "### Testing\n"
   ]
  },
  {
   "cell_type": "code",
   "execution_count": 16,
   "metadata": {},
   "outputs": [],
   "source": [
    "from sklearn.metrics import accuracy_score, precision_score, recall_score, confusion_matrix, plot_confusion_matrix\n",
    "from sklearn.metrics import balanced_accuracy_score"
   ]
  },
  {
   "cell_type": "code",
   "execution_count": 17,
   "metadata": {},
   "outputs": [],
   "source": [
    "# Use the vectorizer transform method to get the vecotr format of the test data\n",
    "X_test_mat = vectorizer.transform(X_test)"
   ]
  },
  {
   "cell_type": "code",
   "execution_count": 18,
   "metadata": {},
   "outputs": [],
   "source": [
    "# get the predictions\n",
    "preds = naive_model.predict(X_test_mat)"
   ]
  },
  {
   "cell_type": "markdown",
   "metadata": {},
   "source": [
    "#### Accuracy"
   ]
  },
  {
   "cell_type": "code",
   "execution_count": 19,
   "metadata": {},
   "outputs": [
    {
     "data": {
      "text/plain": [
       "0.9799480669359493"
      ]
     },
     "execution_count": 19,
     "metadata": {},
     "output_type": "execute_result"
    }
   ],
   "source": [
    "accuracy_score(Y_test, preds)"
   ]
  },
  {
   "cell_type": "markdown",
   "metadata": {},
   "source": [
    "#### Precision"
   ]
  },
  {
   "cell_type": "code",
   "execution_count": 20,
   "metadata": {
    "scrolled": true
   },
   "outputs": [
    {
     "data": {
      "text/plain": [
       "0.9832970225127088"
      ]
     },
     "execution_count": 20,
     "metadata": {},
     "output_type": "execute_result"
    }
   ],
   "source": [
    "precision_score(Y_test, preds)"
   ]
  },
  {
   "cell_type": "markdown",
   "metadata": {},
   "source": [
    "#### Recall"
   ]
  },
  {
   "cell_type": "code",
   "execution_count": 21,
   "metadata": {},
   "outputs": [
    {
     "data": {
      "text/plain": [
       "0.9964674712982043"
      ]
     },
     "execution_count": 21,
     "metadata": {},
     "output_type": "execute_result"
    }
   ],
   "source": [
    "recall_score(Y_test, preds)"
   ]
  },
  {
   "cell_type": "markdown",
   "metadata": {},
   "source": [
    "#### Confusion matrix"
   ]
  },
  {
   "cell_type": "code",
   "execution_count": 22,
   "metadata": {},
   "outputs": [
    {
     "data": {
      "text/plain": [
       "array([[  23,  115],\n",
       "       [  24, 6770]], dtype=int64)"
      ]
     },
     "execution_count": 22,
     "metadata": {},
     "output_type": "execute_result"
    }
   ],
   "source": [
    "confusion_matrix(Y_test, preds)"
   ]
  },
  {
   "cell_type": "code",
   "execution_count": 23,
   "metadata": {
    "scrolled": false
   },
   "outputs": [
    {
     "data": {
      "image/png": "[encoded data removed]",
      "text/plain": [
       "<Figure size 432x288 with 2 Axes>"
      ]
     },
     "metadata": {
      "needs_background": "light"
     },
     "output_type": "display_data"
    }
   ],
   "source": [
    "plot_confusion_matrix(naive_model,X_test_mat, Y_test, cmap = \"viridis\");"
   ]
  },
  {
   "cell_type": "markdown",
   "metadata": {},
   "source": [
    "#### Comments:\n",
    "The accuracy, precision and recall scores appear to be good, but the confusion matrix tells us something devastating. Out of 138 true negatives, only 23 were true negatives !! <br>\n",
    "This observation is because of the **extreme** imbalance in the dataset.\n",
    "##### Let's see the scores for a blind estimator that always classifies as positive"
   ]
  },
  {
   "cell_type": "code",
   "execution_count": 24,
   "metadata": {},
   "outputs": [
    {
     "name": "stdout",
     "output_type": "stream",
     "text": [
      "Accuracy Blind: 0.9800923254472014\n",
      "Precision Blind: 0.9800923254472014\n",
      "Recall Blind: 1.0\n"
     ]
    }
   ],
   "source": [
    "print(\"Accuracy Blind:\", accuracy_score(Y_test, np.ones_like(preds)))\n",
    "print(\"Precision Blind:\", precision_score(Y_test, np.ones_like(preds)))\n",
    "print(\"Recall Blind:\", recall_score(Y_test, np.ones_like(preds)))"
   ]
  },
  {
   "cell_type": "markdown",
   "metadata": {},
   "source": [
    "As we can see, the data is **so unbalanced, that a blind estimator can yield results that appear tempting**<br>\n",
    "Let's check another metric, the **balanced accuracy**"
   ]
  },
  {
   "cell_type": "code",
   "execution_count": 25,
   "metadata": {},
   "outputs": [
    {
     "data": {
      "text/plain": [
       "0.5815670689824355"
      ]
     },
     "execution_count": 25,
     "metadata": {},
     "output_type": "execute_result"
    }
   ],
   "source": [
    "balanced_accuracy_score(Y_test, preds)"
   ]
  },
  {
   "cell_type": "markdown",
   "metadata": {},
   "source": [
    "So, the balanced accuracy score is very poor, where it gets the performance averaged over classes\n",
    "\n",
    "#### To counter this, we can try training the classifier on  a sampled, balanced version of the data"
   ]
  },
  {
   "cell_type": "markdown",
   "metadata": {},
   "source": [
    "## Model 2: Balanced Data\n",
    "This can be done by \n",
    "* Separating the positive and negative ratings into 2 dataframes\n",
    "* Choose like 80% of the negative reviews, as training data `(X1,Y1)`. The other 20% are testing data `(X1T, Y1T)`\n",
    "* From the positive reviews choose an equal number of rows for the training data `(X2, Y2)`. The rest are added to the testing data `(X2T, Y2T)`\n",
    "* This way, our training dataset is balanced `(X1 + X2, Y1 + Y2)`, where the plus here means concatenating"
   ]
  },
  {
   "cell_type": "code",
   "execution_count": 26,
   "metadata": {},
   "outputs": [],
   "source": [
    "neg = df[df.rating == 0]\n",
    "pos = df[df.rating == 1]\n",
    "\n",
    "# split the negative rating into training and test\n",
    "X1, X1T, Y1, Y1T = train_test_split(neg.text, neg.rating, test_size = 0.2)\n",
    "# X2 is only positive rating, as big as X1\n",
    "X2, X2T, Y2, Y2T = train_test_split(pos.text, pos.rating, train_size = len(X1)/len(pos))\n",
    "# Concatenating for training and test sets\n",
    "X_train2 = pd.concat([X1, X2])\n",
    "X_test2 = pd.concat([X1T, X2T])\n",
    "Y_train2 = pd.concat([Y1, Y2])\n",
    "Y_test2 = pd.concat([Y1T, Y2T])"
   ]
  },
  {
   "cell_type": "markdown",
   "metadata": {},
   "source": [
    "### Model building and testing"
   ]
  },
  {
   "cell_type": "code",
   "execution_count": 27,
   "metadata": {},
   "outputs": [
    {
     "name": "stdout",
     "output_type": "stream",
     "text": [
      "Accuracy, balanced: 0.8224273852702257\n",
      "balanced accuracy: 0.8527817109242666\n",
      "Precision, balanced: 0.9993043350908026\n",
      "Recall, balanced: 0.8221278390264474\n"
     ]
    }
   ],
   "source": [
    "# Bag of words\n",
    "vectorizer2 = CountVectorizer(token_pattern=r\"\\b[^\\d\\W]{3,}\\b\") \n",
    "X_train_mat2 = vectorizer2.fit_transform(X_train2)\n",
    "\n",
    "# Naive model\n",
    "naive_model2 = MultinomialNB()\n",
    "naive_model2.fit(X_train_mat2, Y_train2)\n",
    "X_test_mat2 = vectorizer2.transform(X_test2)\n",
    "\n",
    "# performance over test data\n",
    "preds2 = naive_model2.predict(X_test_mat2)\n",
    "print(\"Accuracy, balanced:\", accuracy_score(Y_test2, preds2))\n",
    "print(\"balanced accuracy:\", balanced_accuracy_score(Y_test2, preds2))\n",
    "print(\"Precision, balanced:\", precision_score(Y_test2, preds2))\n",
    "print(\"Recall, balanced:\", recall_score(Y_test2, preds2))"
   ]
  },
  {
   "cell_type": "code",
   "execution_count": 28,
   "metadata": {},
   "outputs": [
    {
     "data": {
      "image/png": "[encoded data removed]",
      "text/plain": [
       "<Figure size 432x288 with 2 Axes>"
      ]
     },
     "metadata": {
      "needs_background": "light"
     },
     "output_type": "display_data"
    }
   ],
   "source": [
    "plot_confusion_matrix(naive_model2,X_test_mat2, Y_test2);"
   ]
  },
  {
   "cell_type": "markdown",
   "metadata": {},
   "source": [
    "#### From the scores and the confusion matrix:\n",
    "* We sacrificed some true positives. On the other hand, the majority of negative data are classified correctly.\n",
    "\n",
    "#### Generally:\n",
    "* I believe this is Ok for a baseline model, however, there are several improvements that can be done\n",
    ">* Handle negation, by appending NOT to the sentence, until the last delimiter. This can improve results\n",
    ">* Tokenize based on POS tag, or select only adjectives, adverbs and verbs in the bag of words\n",
    "* I also tried the `binary` keyword for binarized features. There was no significant differnce in performance"
   ]
  },
  {
   "cell_type": "markdown",
   "metadata": {},
   "source": [
    "## Iteration 3: Only select adjectives, verbs and adverbs\n",
    "Using nltk, we can filter the text based on POS_tag. This should make the classifier more focused on relevant, and focus less on noisy words"
   ]
  },
  {
   "cell_type": "code",
   "execution_count": 34,
   "metadata": {},
   "outputs": [],
   "source": [
    "import nltk\n",
    "from nltk.corpus import wordnet\n",
    "from nltk.stem import WordNetLemmatizer\n",
    "wordnet_lemmatizer = WordNetLemmatizer()"
   ]
  },
  {
   "cell_type": "code",
   "execution_count": 35,
   "metadata": {},
   "outputs": [],
   "source": [
    "def get_wordnet_pos(treebank_tag):\n",
    "\n",
    "    if treebank_tag.startswith('J'):\n",
    "        return wordnet.ADJ\n",
    "    elif treebank_tag.startswith('V'):\n",
    "        return wordnet.VERB\n",
    "    elif treebank_tag.startswith('N'):\n",
    "        return wordnet.NOUN\n",
    "    elif treebank_tag.startswith('R'):\n",
    "        return wordnet.ADV\n",
    "    else:\n",
    "        return ''"
   ]
  },
  {
   "cell_type": "code",
   "execution_count": 41,
   "metadata": {},
   "outputs": [],
   "source": [
    "relevant_tags = set([\"JJ\", \"JJR\", \"JJS\", # adjectives\n",
    "                 \"RB\", \"RBR\", \"RBS\",  # adverbs\n",
    "                 \"VB\", \"VBD\", \"VBG\", \"VBN\", \"VBP\", \"VBZ\"]) # verbs\n",
    "\n",
    "def transform_text(text):\n",
    "    transformed_string = \"\"\n",
    "    # convert to lower case\n",
    "    text = text.lower()\n",
    "    # tokenize\n",
    "    tokens = nltk.word_tokenize(text)\n",
    "    # get pos_tags\n",
    "    pos_tags = nltk.pos_tag(tokens)\n",
    "    \n",
    "    # get the words with relevant tags\n",
    "    for token, tag in pos_tags:\n",
    "        # chekc if the word exists in the English language (exclude typos)\n",
    "        if len(wordnet.synsets(token)) == 0:\n",
    "            continue\n",
    "        if tag in relevant_tags:\n",
    "            lemmatized = wordnet_lemmatizer.lemmatize(token, get_wordnet_pos(tag))\n",
    "            transformed_string += lemmatized \n",
    "        else:\n",
    "            continue\n",
    "        transformed_string += \" \"\n",
    "    \n",
    "    return transformed_string"
   ]
  },
  {
   "cell_type": "code",
   "execution_count": 42,
   "metadata": {},
   "outputs": [],
   "source": [
    "df_trans = df.copy()\n",
    "df_trans.text = df_trans.text.map(transform_text)\n",
    "df_trans.text = df_trans.text.str.lower()"
   ]
  },
  {
   "cell_type": "code",
   "execution_count": 43,
   "metadata": {},
   "outputs": [
    {
     "data": {
      "text/plain": [
       "0        so far have not disappoint love use i monitor ...\n",
       "1                              great experienced buy love \n",
       "2        inexpensive use learn step up be thrill learn ...\n",
       "3        have now i love be great be prime be shin i lo...\n",
       "4        buy grand come visit set enter now amazon make...\n",
       "                               ...                        \n",
       "34654    be not appreciably faster other high use kindl...\n",
       "34655    include charge extra be include be use instead...\n",
       "34656    love kindle i be really disappoint kindle fast...\n",
       "34657    be surprise find do not come charge so i have ...\n",
       "34658    spite have good say ever get i love i find gre...\n",
       "Name: text, Length: 34659, dtype: object"
      ]
     },
     "execution_count": 43,
     "metadata": {},
     "output_type": "execute_result"
    }
   ],
   "source": [
    "df_trans.text"
   ]
  },
  {
   "cell_type": "code",
   "execution_count": 44,
   "metadata": {},
   "outputs": [],
   "source": [
    "Y3 = df_trans.rating\n",
    "X3 = df_trans.text\n",
    "X_train3, X_test3, Y_train3, Y_test3 = train_test_split(X3, Y3, test_size = 0.2, random_state = 0)"
   ]
  },
  {
   "cell_type": "code",
   "execution_count": 45,
   "metadata": {},
   "outputs": [
    {
     "data": {
      "text/plain": [
       "['aaa',\n",
       " 'abandon',\n",
       " 'abc',\n",
       " 'able',\n",
       " 'abnormal',\n",
       " 'abound',\n",
       " 'about',\n",
       " 'above',\n",
       " 'abroad',\n",
       " 'abruptly',\n",
       " 'absolute',\n",
       " 'absolutely',\n",
       " 'absorb',\n",
       " 'abundant',\n",
       " 'abuse',\n",
       " 'accept',\n",
       " 'acceptable',\n",
       " 'acceptably',\n",
       " 'access',\n",
       " 'accessible']"
      ]
     },
     "execution_count": 45,
     "metadata": {},
     "output_type": "execute_result"
    }
   ],
   "source": [
    "vectorizer3 = CountVectorizer(token_pattern=r\"\\b[^\\d\\W]{3,}\\b\") \n",
    "X_train_mat3 = vectorizer3.fit_transform(X_train3)\n",
    "vectorizer3.get_feature_names()[:20]"
   ]
  },
  {
   "cell_type": "code",
   "execution_count": 46,
   "metadata": {},
   "outputs": [],
   "source": [
    "neg3 = df_trans[df_trans.rating == 0]\n",
    "pos3 = df_trans[df_trans.rating == 1]\n",
    "\n",
    "# split the negative rating into training and test\n",
    "X13, X1T3, Y13, Y1T3 = train_test_split(neg3.text, neg3.rating, test_size = 0.2)\n",
    "# X2 is only positive rating, as big as X1\n",
    "X23, X2T3, Y23, Y2T3 = train_test_split(pos3.text, pos3.rating, train_size = len(X13)/len(pos3))\n",
    "# Concatenating for training and test sets\n",
    "X_train3 = pd.concat([X13, X23])\n",
    "X_test3 = pd.concat([X1T3, X2T3])\n",
    "Y_train3 = pd.concat([Y13, Y23])\n",
    "Y_test3 = pd.concat([Y1T3, Y2T3])"
   ]
  },
  {
   "cell_type": "code",
   "execution_count": 47,
   "metadata": {},
   "outputs": [
    {
     "name": "stdout",
     "output_type": "stream",
     "text": [
      "Accuracy, balanced: 0.812475645214472\n",
      "balanced accuracy: 0.8080999040152097\n",
      "Precision, balanced: 0.9988150781307857\n",
      "Recall, balanced: 0.8125188264353275\n"
     ]
    }
   ],
   "source": [
    "# Bag of words\n",
    "vectorizer3 = CountVectorizer(token_pattern=r\"\\b[^\\d\\W]{3,}\\b\") \n",
    "X_train_mat3 = vectorizer3.fit_transform(X_train3)\n",
    "\n",
    "# Naive model\n",
    "naive_model3 = MultinomialNB()\n",
    "naive_model3.fit(X_train_mat3, Y_train3)\n",
    "X_test_mat3 = vectorizer3.transform(X_test3)\n",
    "\n",
    "# performance over test data\n",
    "preds3 = naive_model3.predict(X_test_mat3)\n",
    "print(\"Accuracy, balanced:\", accuracy_score(Y_test3, preds3))\n",
    "print(\"balanced accuracy:\", balanced_accuracy_score(Y_test3, preds3))\n",
    "print(\"Precision, balanced:\", precision_score(Y_test3, preds3))\n",
    "print(\"Recall, balanced:\", recall_score(Y_test3, preds3))"
   ]
  },
  {
   "cell_type": "code",
   "execution_count": 48,
   "metadata": {},
   "outputs": [],
   "source": [
    "X_test_mat3 = vectorizer3.transform(X_test3)"
   ]
  },
  {
   "cell_type": "code",
   "execution_count": 49,
   "metadata": {},
   "outputs": [],
   "source": [
    "preds3 = naive_model3.predict(X_test_mat3)"
   ]
  },
  {
   "cell_type": "code",
   "execution_count": 50,
   "metadata": {},
   "outputs": [
    {
     "data": {
      "image/png": "[encoded data removed]",
      "text/plain": [
       "<Figure size 432x288 with 2 Axes>"
      ]
     },
     "metadata": {
      "needs_background": "light"
     },
     "output_type": "display_data"
    }
   ],
   "source": [
    "plot_confusion_matrix(naive_model3,X_test_mat3, Y_test3, cmap = \"viridis\");"
   ]
  },
  {
   "cell_type": "code",
   "execution_count": null,
   "metadata": {},
   "outputs": [],
   "source": []
  }
 ],
 "metadata": {
  "kernelspec": {
   "display_name": "Python 3",
   "language": "python",
   "name": "python3"
  },
  "language_info": {
   "codemirror_mode": {
    "name": "ipython",
    "version": 3
   },
   "file_extension": ".py",
   "mimetype": "text/x-python",
   "name": "python",
   "nbconvert_exporter": "python",
   "pygments_lexer": "ipython3",
   "version": "3.8.5"
  }
 },
 "nbformat": 4,
 "nbformat_minor": 2
}
